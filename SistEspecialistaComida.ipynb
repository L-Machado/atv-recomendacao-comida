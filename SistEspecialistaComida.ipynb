{
  "nbformat": 4,
  "nbformat_minor": 0,
  "metadata": {
    "colab": {
      "provenance": [],
      "include_colab_link": true
    },
    "kernelspec": {
      "name": "python3",
      "display_name": "Python 3"
    },
    "language_info": {
      "name": "python"
    }
  },
  "cells": [
    {
      "cell_type": "markdown",
      "metadata": {
        "id": "view-in-github",
        "colab_type": "text"
      },
      "source": [
        "<a href=\"https://colab.research.google.com/github/L-Machado/atv-recomendacao-comida/blob/main/SistEspecialistaComida.ipynb\" target=\"_parent\"><img src=\"https://colab.research.google.com/assets/colab-badge.svg\" alt=\"Open In Colab\"/></a>"
      ]
    },
    {
      "cell_type": "code",
      "execution_count": 6,
      "metadata": {
        "id": "CjH8A5DYeI9I"
      },
      "outputs": [],
      "source": [
        "# Base de Conhecimento\n",
        "refeicoes = [\n",
        "    {\"Nome\": \"Frango com Legumes\", \"Tipo de Refeição\": \"Almoço\", \"Faixa Etária\": \"Adulto\"},\n",
        "    {\"Nome\": \"Sopa de Legumes\", \"Tipo de Refeição\": \"Jantar\", \"Faixa Etária\": \"Adulto\"},\n",
        "    {\"Nome\": \"Omelete de Queijo\", \"Tipo de Refeição\": \"Café da Manhã\", \"Faixa Etária\": \"Adulto\"},\n",
        "    {\"Nome\": \"Mingau de Aveia\", \"Tipo de Refeição\": \"Café da Manhã\", \"Faixa Etária\": \"Jovem\"},\n",
        "    {\"Nome\": \"Espaguete à Bolonhesa\", \"Tipo de Refeição\": \"Almoço\", \"Faixa Etária\": \"Jovem\"},\n",
        "    {\"Nome\": \"Salada de Frutas\", \"Tipo de Refeição\": \"Lanche\", \"Faixa Etária\": \"Adulto\"},\n",
        "    {\"Nome\": \"Sanduíche Natural\", \"Tipo de Refeição\": \"Lanche\", \"Faixa Etária\": \"Jovem\"},\n",
        "    {\"Nome\": \"Arroz com Feijão e Carne\", \"Tipo de Refeição\": \"Almoço\", \"Faixa Etária\": \"Adulto\"},\n",
        "    {\"Nome\": \"Peito de Frango Grelhado\", \"Tipo de Refeição\": \"Jantar\", \"Faixa Etária\": \"Adulto\"},\n",
        "    {\"Nome\": \"Pizza de Queijo\", \"Tipo de Refeição\": \"Jantar\", \"Faixa Etária\": \"Jovem\"},\n",
        "    {\"Nome\": \"Salgadinho Assado\", \"Tipo de Refeição\": \"Lanche\", \"Faixa Etária\": \"Jovem\"},\n",
        "    {\"Nome\": \"Iogurte com Granola\", \"Tipo de Refeição\": \"Lanche\", \"Faixa Etária\": \"Adulto\"},\n",
        "    {\"Nome\": \"Sopa de Abóbora\", \"Tipo de Refeição\": \"Jantar\", \"Faixa Etária\": \"Adulto\"},\n",
        "    {\"Nome\": \"Panqueca de Banana\", \"Tipo de Refeição\": \"Café da Manhã\", \"Faixa Etária\": \"Jovem\"},\n",
        "    {\"Nome\": \"Lasanha\", \"Tipo de Refeição\": \"Almoço\", \"Faixa Etária\": \"Adulto\"},\n",
        "]\n",
        "\n",
        "# Regras de Recomendação\n",
        "regras = [\n",
        "    {\"Condição\": {\"Tipo de Refeição\": \"Café da Manhã\", \"Faixa Etária\": \"Adulto\"},\n",
        "     \"Recomendação\": [\"Omelete de Queijo\", \"Panqueca de Banana\"]},\n",
        "\n",
        "    {\"Condição\": {\"Tipo de Refeição\": \"Café da Manhã\", \"Faixa Etária\": \"Jovem\"},\n",
        "     \"Recomendação\": [\"Mingau de Aveia\", \"Panqueca de Banana\"]},\n",
        "\n",
        "    {\"Condição\": {\"Tipo de Refeição\": \"Almoço\", \"Faixa Etária\": \"Adulto\"},\n",
        "     \"Recomendação\": [\"Frango com Legumes\", \"Arroz com Feijão e Carne\", \"Lasanha\"]},\n",
        "\n",
        "    {\"Condição\": {\"Tipo de Refeição\": \"Almoço\", \"Faixa Etária\": \"Jovem\"},\n",
        "     \"Recomendação\": [\"Espaguete à Bolonhesa\", \"Arroz com Feijão e Carne\"]},\n",
        "\n",
        "    {\"Condição\": {\"Tipo de Refeição\": \"Jantar\", \"Faixa Etária\": \"Adulto\"},\n",
        "     \"Recomendação\": [\"Sopa de Legumes\", \"Peito de Frango Grelhado\", \"Sopa de Abóbora\"]},\n",
        "\n",
        "    {\"Condição\": {\"Tipo de Refeição\": \"Jantar\", \"Faixa Etária\": \"Jovem\"},\n",
        "     \"Recomendação\": [\"Pizza de Queijo\", \"Espaguete à Bolonhesa\"]},\n",
        "\n",
        "    {\"Condição\": {\"Tipo de Refeição\": \"Lanche\", \"Faixa Etária\": \"Adulto\"},\n",
        "     \"Recomendação\": [\"Salada de Frutas\", \"Iogurte com Granola\"]},\n",
        "\n",
        "    {\"Condição\": {\"Tipo de Refeição\": \"Lanche\", \"Faixa Etária\": \"Jovem\"},\n",
        "     \"Recomendação\": [\"Sanduíche Natural\", \"Salgadinho Assado\"]},\n",
        "]\n",
        "\n"
      ]
    },
    {
      "cell_type": "code",
      "source": [
        "def recomendar_refeicoes(preferencias):\n",
        "    recomendacoes = []\n",
        "    for regra in regras:\n",
        "        condicao = regra[\"Condição\"]\n",
        "        if (preferencias[\"Tipo de Refeição\"] == condicao[\"Tipo de Refeição\"] and\n",
        "                preferencias[\"Faixa Etária\"] == condicao[\"Faixa Etária\"]):\n",
        "            recomendacoes.extend(regra[\"Recomendação\"])\n",
        "    return recomendacoes\n"
      ],
      "metadata": {
        "id": "paQFjmBAen9M"
      },
      "execution_count": 7,
      "outputs": []
    },
    {
      "cell_type": "code",
      "source": [
        "def recomendar_refeicoes(preferencias):\n",
        "    recomendacoes = []\n",
        "    for regra in regras:\n",
        "        condicao = regra[\"Condição\"]\n",
        "        if (preferencias[\"Tipo de Refeição\"] == condicao[\"Tipo de Refeição\"] and\n",
        "                preferencias[\"Faixa Etária\"] == condicao[\"Faixa Etária\"]):\n",
        "            recomendacoes.extend(regra[\"Recomendação\"])\n",
        "    return recomendacoes\n",
        "\n",
        "def main():\n",
        "    tipo_refeicao = input(\"Qual tipo de refeição você prefere? (Café da Manhã, Almoço, Jantar, Lanche) \")\n",
        "    faixa_etaria = input(\"Qual é a sua faixa etária? (Adulto, Jovem) \")\n",
        "\n",
        "    preferencias = {\n",
        "        \"Tipo de Refeição\": tipo_refeicao,\n",
        "        \"Faixa Etária\": faixa_etaria\n",
        "    }\n",
        "\n",
        "    refeicoes_recomendadas = recomendar_refeicoes(preferencias)\n",
        "\n",
        "    if refeicoes_recomendadas:\n",
        "        print(\"Refeições Recomendadas:\")\n",
        "        for refeicao in refeicoes_recomendadas:\n",
        "            print(f\"- {refeicao}\")\n",
        "    else:\n",
        "        print(\"Nenhuma recomendação disponível para suas preferências.\")\n",
        "\n",
        "if __name__ == \"__main__\":\n",
        "    main()\n"
      ],
      "metadata": {
        "colab": {
          "base_uri": "https://localhost:8080/"
        },
        "id": "VVGk2FB3er-3",
        "outputId": "65a916fa-1407-4b91-c96b-b669ff75785c"
      },
      "execution_count": 8,
      "outputs": [
        {
          "output_type": "stream",
          "name": "stdout",
          "text": [
            "Qual tipo de refeição você prefere? (Café da Manhã, Almoço, Jantar, Lanche) Lanche\n",
            "Qual é a sua faixa etária? (Adulto, Jovem) Adulto\n",
            "Refeições Recomendadas:\n",
            "- Salada de Frutas\n",
            "- Iogurte com Granola\n"
          ]
        }
      ]
    }
  ]
}